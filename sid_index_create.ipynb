{
 "cells": [
  {
   "cell_type": "code",
   "execution_count": 1,
   "id": "b3054892",
   "metadata": {
    "scrolled": true
   },
   "outputs": [
    {
     "name": "stdout",
     "output_type": "stream",
     "text": [
      "10000\n",
      "20000\n",
      "30000\n",
      "40000\n",
      "50000\n",
      "60000\n",
      "70000\n",
      "80000\n",
      "90000\n",
      "100000\n",
      "110000\n",
      "120000\n",
      "130000\n",
      "140000\n",
      "150000\n",
      "160000\n",
      "170000\n",
      "180000\n",
      "190000\n",
      "200000\n",
      "210000\n",
      "220000\n",
      "230000\n",
      "240000\n",
      "250000\n",
      "260000\n",
      "270000\n",
      "280000\n",
      "290000\n",
      "300000\n",
      "310000\n",
      "320000\n",
      "330000\n",
      "340000\n",
      "350000\n",
      "360000\n",
      "370000\n",
      "380000\n",
      "390000\n",
      "400000\n",
      "410000\n",
      "420000\n",
      "430000\n",
      "440000\n",
      "450000\n",
      "460000\n"
     ]
    }
   ],
   "source": [
    "\n",
    "import os\n",
    "import struct\n",
    "path=\"DB_students_tc_utf8.csv\"\n",
    "with open(path, \"r\",encoding=\"utf-8\") as file:\n",
    "    lines = file.readlines()\n",
    "data = []\n",
    "for line in lines:\n",
    "    student_id, course_id ,course_name= line.strip().split(\",\")\n",
    "    \n",
    "    data.append((student_id, course_id,course_name))\n",
    "\n",
    "    \n",
    "base_folder = \"sortbySID\"\n",
    "block_size = 100  \n",
    "\n",
    "for index in range(1,len(data)):\n",
    "    if(not index%10000):\n",
    "        print(index)\n",
    "        \n",
    "    Sid=data[index][0]\n",
    "    Cid=data[index][1]\n",
    "    file_path=os.path.join(base_folder,Sid+\".txt\")\n",
    "    try:\n",
    "        with open(file_path, \"a\") as file:\n",
    "            file.write(str(index)+\"\\n\")\n",
    "        file.close \n",
    "        \n",
    "    except Exception as e:\n",
    "        print(f\"ERR：{str(e)}\")"
   ]
  },
  {
   "cell_type": "code",
   "execution_count": 2,
   "id": "353f23c8",
   "metadata": {},
   "outputs": [
    {
     "name": "stdout",
     "output_type": "stream",
     "text": [
      "D000003506,2168,企業倫理與社會責任\n",
      "\n",
      "D000003506,2171,管理資訊系統\n",
      "\n",
      "D000003506,2958,民法實用\n",
      "\n",
      "D000003506,2170,國際企業管理\n",
      "\n"
     ]
    }
   ],
   "source": [
    "\n",
    "import os\n",
    "import struct\n",
    "#原始資料存入記憶體\n",
    "path=\"DB_students_tc_utf8.csv\"\n",
    "with open(path, \"r\",encoding=\"utf-8\") as file:\n",
    "    lines = file.readlines()\n",
    "data = []\n",
    "for line in lines:\n",
    "    # 解析 DB_students_tc_utf8.csv\n",
    "    student_id, course_id ,course_name= line.strip().split(\",\")\n",
    "    # 存储sid和cid\n",
    "    data.append((student_id, course_id,course_name))\n",
    "\n",
    "test_list=[27700,46896,51668,355221]\n",
    "for i in test_list:\n",
    "    print(lines[i])"
   ]
  },
  {
   "cell_type": "code",
   "execution_count": null,
   "id": "a879df3b",
   "metadata": {},
   "outputs": [],
   "source": []
  }
 ],
 "metadata": {
  "kernelspec": {
   "display_name": "Python 3 (ipykernel)",
   "language": "python",
   "name": "python3"
  },
  "language_info": {
   "codemirror_mode": {
    "name": "ipython",
    "version": 3
   },
   "file_extension": ".py",
   "mimetype": "text/x-python",
   "name": "python",
   "nbconvert_exporter": "python",
   "pygments_lexer": "ipython3",
   "version": "3.9.7"
  }
 },
 "nbformat": 4,
 "nbformat_minor": 5
}
